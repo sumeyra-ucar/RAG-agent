{
 "cells": [
  {
   "cell_type": "markdown",
   "id": "99672ea7",
   "metadata": {},
   "source": [
    "## RAG Tabanlı AI Agent"
   ]
  },
  {
   "cell_type": "code",
   "execution_count": 8,
   "id": "33b79a57",
   "metadata": {},
   "outputs": [
    {
     "name": "stdout",
     "output_type": "stream",
     "text": [
      "Note: you may need to restart the kernel to use updated packages.\n"
     ]
    }
   ],
   "source": [
    "# Gerekli kütüphaneler\n",
    "%pip install -q langchain qdrant-client langchain-community langchain-google-genai sentence-transformers python-dotenv"
   ]
  },
  {
   "cell_type": "code",
   "execution_count": 9,
   "id": "514bcf51",
   "metadata": {},
   "outputs": [
    {
     "name": "stdout",
     "output_type": "stream",
     "text": [
      "Requirement already satisfied: pypdf in c:\\users\\user\\appdata\\local\\programs\\python\\python313\\lib\\site-packages (5.8.0)\n",
      "Note: you may need to restart the kernel to use updated packages.\n"
     ]
    }
   ],
   "source": [
    "%pip install pypdf"
   ]
  },
  {
   "cell_type": "code",
   "execution_count": 10,
   "id": "f0ea85d4",
   "metadata": {},
   "outputs": [
    {
     "name": "stdout",
     "output_type": "stream",
     "text": [
      "✅ API Anahtarları yüklendi.\n"
     ]
    }
   ],
   "source": [
    "# Ortam değişkenlerini yükle\n",
    "from dotenv import load_dotenv\n",
    "import os\n",
    "\n",
    "load_dotenv()  # .env dosyasını oku\n",
    "\n",
    "# API Key'leri al\n",
    "google_api_key = os.getenv(\"GOOGLE_API_KEY\")\n",
    "qdrant_api_key = os.getenv(\"QDRANT_API_KEY\")\n",
    "qdrant_url = os.getenv(\"QDRANT_URL\")\n",
    "\n",
    "# Kontroller\n",
    "if not google_api_key:\n",
    "    raise ValueError(\"GOOGLE_API_KEY eksik.\")\n",
    "if not qdrant_api_key or not qdrant_url:\n",
    "    raise ValueError(\"QDRANT bilgileri eksik.\")\n",
    "print(\"✅ API Anahtarları yüklendi.\")"
   ]
  },
  {
   "cell_type": "code",
   "execution_count": 11,
   "id": "e013e397",
   "metadata": {},
   "outputs": [
    {
     "name": "stdout",
     "output_type": "stream",
     "text": [
      "✅ Qdrant bağlantısı başarılı. Koleksiyonlar: ['pdf_agent_collection']\n"
     ]
    }
   ],
   "source": [
    "from qdrant_client import QdrantClient\n",
    "\n",
    "qdrant_client = QdrantClient(\n",
    "    url=qdrant_url,\n",
    "    api_key=qdrant_api_key\n",
    ")\n",
    "\n",
    "try:\n",
    "    collections = qdrant_client.get_collections().collections\n",
    "    print(f\"✅ Qdrant bağlantısı başarılı. Koleksiyonlar: {[c.name for c in collections]}\")\n",
    "except Exception as e:\n",
    "    print(f\"❌ Hata: {e}\")"
   ]
  },
  {
   "cell_type": "markdown",
   "id": "4f0f8636",
   "metadata": {},
   "source": [
    "## PDF Yükle ve Böl"
   ]
  },
  {
   "cell_type": "code",
   "execution_count": 12,
   "id": "c474a9bd",
   "metadata": {},
   "outputs": [
    {
     "name": "stdout",
     "output_type": "stream",
     "text": [
      "✅ Toplam chunk sayısı: 124\n"
     ]
    }
   ],
   "source": [
    "from langchain_community.document_loaders import PyPDFLoader\n",
    "from langchain.text_splitter import RecursiveCharacterTextSplitter\n",
    "\n",
    "# PDF dosyasını yükle\n",
    "pdf_path = \"./data/pdf_deneme.pdf\"\n",
    "loader = PyPDFLoader(pdf_path)\n",
    "pages = loader.load()\n",
    "\n",
    "# Chunk'lara böl\n",
    "splitter = RecursiveCharacterTextSplitter(chunk_size=500, chunk_overlap=50)\n",
    "docs = splitter.split_documents(pages)\n",
    "\n",
    "print(f\"✅ Toplam chunk sayısı: {len(docs)}\")\n"
   ]
  },
  {
   "cell_type": "code",
   "execution_count": 13,
   "id": "2f93f508",
   "metadata": {},
   "outputs": [],
   "source": [
    "from langchain_google_genai import GoogleGenerativeAIEmbeddings\n",
    "# Google Generative AI Embeddings modelini başlat\n",
    "# Embedding modelini başlat\n",
    "embedding_model = GoogleGenerativeAIEmbeddings(model=\"models/embedding-001\", google_api_key=google_api_key)\n",
    "\n",
    "# Chunk’ları vektörlere çevir\n",
    "from langchain.schema import Document\n",
    "\n",
    "# Langchain Document nesnesine çevir\n",
    "docs = [Document(page_content=page.page_content, metadata=page.metadata) for page in pages]\n",
    "\n",
    "# Bu embedleri Qdrant’a aktaracağız (bir sonraki adım)\n"
   ]
  },
  {
   "cell_type": "code",
   "execution_count": 14,
   "id": "aafb6dbd",
   "metadata": {},
   "outputs": [
    {
     "name": "stdout",
     "output_type": "stream",
     "text": [
      "Embeddings Qdrant'a yüklendi.\n"
     ]
    }
   ],
   "source": [
    "#Embedding’leri Qdrant’a Yükle\n",
    "from langchain.vectorstores import Qdrant as LangchainQdrant\n",
    "\n",
    "vectorstore = LangchainQdrant.from_documents(\n",
    "    documents=docs,\n",
    "    embedding=embedding_model,\n",
    "    url=qdrant_url,\n",
    "    api_key=qdrant_api_key,\n",
    "    collection_name=\"pdf_agent_collection\"\n",
    ")\n",
    "\n",
    "print(\"Embeddings Qdrant'a yüklendi.\")\n"
   ]
  },
  {
   "cell_type": "code",
   "execution_count": 15,
   "id": "706e162d",
   "metadata": {},
   "outputs": [],
   "source": [
    "#soru-cevap aganti oluşturma(RetrievalQA) \n",
    "from langchain_google_genai import ChatGoogleGenerativeAI\n",
    "from langchain.chains import RetrievalQA\n",
    "\n",
    "retriever = vectorstore.as_retriever()\n",
    "\n",
    "qa_chain = RetrievalQA.from_chain_type(\n",
    "    llm=ChatGoogleGenerativeAI(model=\"gemini-2.0-flash\", google_api_key=google_api_key),\n",
    "    chain_type=\"stuff\",\n",
    "    retriever=retriever,\n",
    "    return_source_documents=True\n",
    ")"
   ]
  },
  {
   "cell_type": "code",
   "execution_count": 16,
   "id": "7dd7640e",
   "metadata": {},
   "outputs": [
    {
     "name": "stdout",
     "output_type": "stream",
     "text": [
      "Cevap:\n",
      " Bu PDF'in yazarları Çiğdem KAYA ve ark.\n"
     ]
    }
   ],
   "source": [
    "#test\n",
    "query = \"Bu PDF in yazarları kimler?\"\n",
    "result = qa_chain.invoke(query)\n",
    "\n",
    "print(\"Cevap:\\n\", result['result'])"
   ]
  },
  {
   "cell_type": "code",
   "execution_count": 17,
   "id": "475969b6",
   "metadata": {},
   "outputs": [
    {
     "name": "stdout",
     "output_type": "stream",
     "text": [
      "Requirement already satisfied: gradio in c:\\users\\user\\appdata\\local\\programs\\python\\python313\\lib\\site-packages (5.38.0)\n",
      "Requirement already satisfied: langchain in c:\\users\\user\\appdata\\local\\programs\\python\\python313\\lib\\site-packages (0.3.26)\n",
      "Note: you may need to restart the kernel to use updated packages.\n"
     ]
    },
    {
     "name": "stderr",
     "output_type": "stream",
     "text": [
      "ERROR: Could not find a version that satisfies the requirement google-generative-ai (from versions: none)\n",
      "ERROR: No matching distribution found for google-generative-ai\n"
     ]
    }
   ],
   "source": [
    "%pip install gradio langchain google-generative-ai qdrant-client langchain-qdrant python-dotenv"
   ]
  },
  {
   "cell_type": "code",
   "execution_count": 19,
   "id": "9e15e3e8",
   "metadata": {},
   "outputs": [
    {
     "name": "stdout",
     "output_type": "stream",
     "text": [
      "* Running on local URL:  http://127.0.0.1:7861\n",
      "* To create a public link, set `share=True` in `launch()`.\n"
     ]
    },
    {
     "data": {
      "text/html": [
       "<div><iframe src=\"http://127.0.0.1:7861/\" width=\"100%\" height=\"500\" allow=\"autoplay; camera; microphone; clipboard-read; clipboard-write;\" frameborder=\"0\" allowfullscreen></iframe></div>"
      ],
      "text/plain": [
       "<IPython.core.display.HTML object>"
      ]
     },
     "metadata": {},
     "output_type": "display_data"
    },
    {
     "data": {
      "text/plain": []
     },
     "execution_count": 19,
     "metadata": {},
     "output_type": "execute_result"
    }
   ],
   "source": [
    "import os\n",
    "import gradio as gr\n",
    "from langchain_community.document_loaders import PyPDFLoader\n",
    "from langchain.text_splitter import RecursiveCharacterTextSplitter\n",
    "from langchain_google_genai import GoogleGenerativeAIEmbeddings, GoogleGenerativeAI\n",
    "from langchain_qdrant import QdrantVectorStore\n",
    "from langchain.chains import RetrievalQA\n",
    "from dotenv import load_dotenv\n",
    "\n",
    "load_dotenv()\n",
    "\n",
    "# Qdrant ayarları\n",
    "QDRANT_URL = os.getenv(\"QDRANT_URL\")\n",
    "QDRANT_API_KEY = os.getenv(\"QDRANT_API_KEY\")\n",
    "QDRANT_COLLECTION = \"docs\"\n",
    "\n",
    "embeddings = GoogleGenerativeAIEmbeddings(\n",
    "    model=\"models/embedding-001\",\n",
    "    google_api_key=os.getenv(\"GOOGLE_API_KEY\")\n",
    ")\n",
    "\n",
    "def pdf_to_text(pdf_path):\n",
    "    loader = PyPDFLoader(pdf_path)\n",
    "    documents = loader.load()\n",
    "    return documents\n",
    "\n",
    "def chunk_documents(documents, chunk_size=500, chunk_overlap=50):\n",
    "    splitter = RecursiveCharacterTextSplitter(chunk_size=chunk_size, chunk_overlap=chunk_overlap)\n",
    "    return splitter.split_documents(documents)\n",
    "\n",
    "def store_embeddings(chunks):\n",
    "\n",
    "    vectordb = QdrantVectorStore.from_documents(\n",
    "        chunks,\n",
    "        embeddings,\n",
    "        url=QDRANT_URL,\n",
    "        api_key=QDRANT_API_KEY,\n",
    "        collection_name=QDRANT_COLLECTION,\n",
    "        force_recreate=True,\n",
    "        timeout=100\n",
    "    )\n",
    "    return vectordb\n",
    "\n",
    "def build_qa_chain(vectordb):\n",
    "    retriever = vectordb.as_retriever()\n",
    "    llm = GoogleGenerativeAI(\n",
    "        model=\"gemini-2.5-flash\",\n",
    "        google_api_key=os.getenv(\"GOOGLE_API_KEY\")\n",
    "    )\n",
    "    qa = RetrievalQA.from_chain_type(llm=llm, retriever=retriever)\n",
    "    return qa\n",
    "\n",
    "def upload_and_index(pdf_file):\n",
    "    try:\n",
    "        documents = pdf_to_text(pdf_file)\n",
    "        chunks = chunk_documents(documents)\n",
    "        vectordb = store_embeddings(chunks)\n",
    "        return \"Döküman başarıyla işlendi ve vektör veritabanına kaydedildi.\"\n",
    "    except Exception as e:\n",
    "        return f\"Hata oluştu: {str(e)}\"\n",
    "\n",
    "def answer_question(question):\n",
    "    try:\n",
    "        from qdrant_client import QdrantClient\n",
    "        \n",
    "        client = QdrantClient(\n",
    "            url=QDRANT_URL,\n",
    "            api_key=QDRANT_API_KEY,\n",
    "        )\n",
    "        \n",
    "        vectordb = QdrantVectorStore(\n",
    "            client=client,\n",
    "            collection_name=QDRANT_COLLECTION,\n",
    "            embedding=embeddings\n",
    "        )\n",
    "        qa = build_qa_chain(vectordb)\n",
    "        return qa.run(question)\n",
    "    except Exception as e:\n",
    "        return f\"Hata oluştu: {str(e)}\"\n",
    "\n",
    "with gr.Blocks() as demo:\n",
    "    gr.Markdown(\"# Akıllı Doküman Soru-Cevap Sistemi\")\n",
    "    \n",
    "    with gr.Row():\n",
    "        # Sol taraf - Doküman yükleme (dar)\n",
    "        with gr.Column(scale=1):\n",
    "            gr.Markdown(\"## 📄 Doküman Yükle\")\n",
    "            pdf_input = gr.File(label=\"PDF Dosyası Seçin\", file_types=[\".pdf\"])\n",
    "            upload_btn = gr.Button(\"📁 Yükle ve İndeksle\", variant=\"primary\", size=\"sm\")\n",
    "            upload_output = gr.Textbox(label=\"Durum\", interactive=False, lines=2)\n",
    "            upload_btn.click(upload_and_index, inputs=pdf_input, outputs=upload_output)\n",
    "        \n",
    "        # Sağ taraf - Soru-cevap (geniş)\n",
    "        with gr.Column(scale=2):\n",
    "            gr.Markdown(\"## 💬 Soru-Cevap Alanı\")\n",
    "            question_input = gr.Textbox(\n",
    "                label=\"Sorunuzu buraya yazın\", \n",
    "                placeholder=\"Yüklenen döküman hakkında soru sorun...\",\n",
    "                lines=3\n",
    "            )\n",
    "            ask_btn = gr.Button(\"🔍 Cevabı Getir\", variant=\"secondary\", size=\"lg\")\n",
    "            answer_output = gr.Textbox(\n",
    "                label=\"Cevap\", \n",
    "                interactive=False, \n",
    "                lines=8,\n",
    "                placeholder=\"Cevap burada görünecek...\"\n",
    "            )\n",
    "            ask_btn.click(answer_question, inputs=question_input, outputs=answer_output)\n",
    "\n",
    "demo.launch()"
   ]
  }
 ],
 "metadata": {
  "kernelspec": {
   "display_name": "Python 3",
   "language": "python",
   "name": "python3"
  },
  "language_info": {
   "codemirror_mode": {
    "name": "ipython",
    "version": 3
   },
   "file_extension": ".py",
   "mimetype": "text/x-python",
   "name": "python",
   "nbconvert_exporter": "python",
   "pygments_lexer": "ipython3",
   "version": "3.13.3"
  }
 },
 "nbformat": 4,
 "nbformat_minor": 5
}
